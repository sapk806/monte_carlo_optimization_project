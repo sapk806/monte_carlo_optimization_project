{
 "cells": [
  {
   "cell_type": "code",
   "execution_count": 7,
   "id": "de643ad5",
   "metadata": {},
   "outputs": [
    {
     "name": "stderr",
     "output_type": "stream",
     "text": [
      "[*********************100%***********************]  2 of 2 completed"
     ]
    },
    {
     "name": "stdout",
     "output_type": "stream",
     "text": [
      "Ticker            AAPL        AMZN\n",
      "Date                              \n",
      "2020-07-15   94.995438  150.443497\n",
      "2020-07-16   93.826530  149.994995\n",
      "2020-07-17   93.636993  148.098495\n",
      "2020-07-20   95.610291  159.841995\n",
      "2020-07-21   94.290703  156.914505\n",
      "...                ...         ...\n",
      "2025-07-08  210.009995  219.360001\n",
      "2025-07-09  211.139999  222.539993\n",
      "2025-07-10  212.410004  222.259995\n",
      "2025-07-11  211.160004  225.020004\n",
      "2025-07-14  208.619995  225.690002\n",
      "\n",
      "[1255 rows x 2 columns]\n"
     ]
    },
    {
     "name": "stderr",
     "output_type": "stream",
     "text": [
      "\n"
     ]
    }
   ],
   "source": [
    "import yfinance as yf\n",
    "\n",
    "universe = ['AAPL', 'AMZN']\n",
    "ticker = yf.download(universe, period = '5y', auto_adjust=True)['Close']\n",
    "print(ticker)"
   ]
  },
  {
   "cell_type": "code",
   "execution_count": 8,
   "id": "14c20c4c",
   "metadata": {},
   "outputs": [
    {
     "name": "stdout",
     "output_type": "stream",
     "text": [
      "Ticker\n",
      "AAPL    0.000803\n",
      "AMZN    0.000573\n",
      "dtype: float64\n"
     ]
    }
   ],
   "source": [
    "import pandas as pd\n",
    "returns = ticker.pct_change().dropna()\n",
    "avg = returns.mean()\n",
    "print(avg)"
   ]
  },
  {
   "cell_type": "code",
   "execution_count": 13,
   "id": "ae4d5c6e",
   "metadata": {},
   "outputs": [
    {
     "name": "stdout",
     "output_type": "stream",
     "text": [
      "[array([0.23443444, 0.76556556]), array([0.8424, 0.1576])]\n"
     ]
    }
   ],
   "source": [
    "import numpy as np\n",
    "a = []\n",
    "for i in range(2):\n",
    "    weightings = np.random.random(2)\n",
    "    weightings = weightings/sum(weightings)\n",
    "    a.append(weightings)\n",
    "\n",
    "print(a)"
   ]
  },
  {
   "cell_type": "code",
   "execution_count": null,
   "id": "de34bfa7",
   "metadata": {},
   "outputs": [],
   "source": [
    "for "
   ]
  }
 ],
 "metadata": {
  "kernelspec": {
   "display_name": ".venv",
   "language": "python",
   "name": "python3"
  },
  "language_info": {
   "codemirror_mode": {
    "name": "ipython",
    "version": 3
   },
   "file_extension": ".py",
   "mimetype": "text/x-python",
   "name": "python",
   "nbconvert_exporter": "python",
   "pygments_lexer": "ipython3",
   "version": "3.13.5"
  }
 },
 "nbformat": 4,
 "nbformat_minor": 5
}
